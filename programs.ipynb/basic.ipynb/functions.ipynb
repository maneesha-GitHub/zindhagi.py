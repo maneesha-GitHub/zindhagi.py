{
 "cells": [
  {
   "cell_type": "code",
   "execution_count": 1,
   "metadata": {},
   "outputs": [
    {
     "ename": "TypeError",
     "evalue": "string indices must be integers",
     "output_type": "error",
     "traceback": [
      "\u001b[1;31m---------------------------------------------------------------------------\u001b[0m",
      "\u001b[1;31mTypeError\u001b[0m                                 Traceback (most recent call last)",
      "\u001b[1;32mc:\\Users\\Murali\\Desktop\\zindhagi.py\\programs.ipynb\\basic.ipynb\\functions.ipynb Cell 1\u001b[0m line \u001b[0;36m5\n\u001b[0;32m      <a href='vscode-notebook-cell:/c%3A/Users/Murali/Desktop/zindhagi.py/programs.ipynb/basic.ipynb/functions.ipynb#X32sZmlsZQ%3D%3D?line=2'>3</a>\u001b[0m w\u001b[39m=\u001b[39m[]\n\u001b[0;32m      <a href='vscode-notebook-cell:/c%3A/Users/Murali/Desktop/zindhagi.py/programs.ipynb/basic.ipynb/functions.ipynb#X32sZmlsZQ%3D%3D?line=3'>4</a>\u001b[0m \u001b[39mfor\u001b[39;00m i \u001b[39min\u001b[39;00m st:\n\u001b[1;32m----> <a href='vscode-notebook-cell:/c%3A/Users/Murali/Desktop/zindhagi.py/programs.ipynb/basic.ipynb/functions.ipynb#X32sZmlsZQ%3D%3D?line=4'>5</a>\u001b[0m     \u001b[39mif\u001b[39;00m i \u001b[39min\u001b[39;00m (\u001b[39m\"\u001b[39m\u001b[39mA\u001b[39m\u001b[39m\"\u001b[39m\u001b[39m<\u001b[39m\u001b[39m=\u001b[39mst[i]\u001b[39m<\u001b[39m\u001b[39m=\u001b[39m\u001b[39m\"\u001b[39m\u001b[39mZ\u001b[39m\u001b[39m\"\u001b[39m):\n\u001b[0;32m      <a href='vscode-notebook-cell:/c%3A/Users/Murali/Desktop/zindhagi.py/programs.ipynb/basic.ipynb/functions.ipynb#X32sZmlsZQ%3D%3D?line=5'>6</a>\u001b[0m         \u001b[39mif\u001b[39;00m res:\n\u001b[0;32m      <a href='vscode-notebook-cell:/c%3A/Users/Murali/Desktop/zindhagi.py/programs.ipynb/basic.ipynb/functions.ipynb#X32sZmlsZQ%3D%3D?line=6'>7</a>\u001b[0m             res\u001b[39m+\u001b[39m\u001b[39m=\u001b[39mw\n",
      "\u001b[1;31mTypeError\u001b[0m: string indices must be integers"
     ]
    }
   ],
   "source": [
    "st=\"worldHelloHaii\"\n",
    "res=\"\"\n",
    "w=[]\n",
    "for i in st:\n",
    "    if i in (\"A\"<=st[i]<=\"Z\"):\n",
    "        if res:\n",
    "            res+=w\n",
    "\n",
    "\n",
    "\n",
    "     \n",
    "       \n",
    "    \n",
    "\n",
    "   \n",
    "        \n",
    "    "
   ]
  },
  {
   "cell_type": "code",
   "execution_count": null,
   "metadata": {},
   "outputs": [],
   "source": []
  },
  {
   "cell_type": "code",
   "execution_count": 1,
   "metadata": {},
   "outputs": [
    {
     "name": "stdout",
     "output_type": "stream",
     "text": [
      "30\n"
     ]
    }
   ],
   "source": [
    "a=10\n",
    "b=20\n",
    "c=a+b\n",
    "print(c)"
   ]
  },
  {
   "cell_type": "code",
   "execution_count": null,
   "metadata": {},
   "outputs": [],
   "source": []
  },
  {
   "cell_type": "code",
   "execution_count": null,
   "metadata": {},
   "outputs": [],
   "source": []
  },
  {
   "cell_type": "code",
   "execution_count": null,
   "metadata": {},
   "outputs": [],
   "source": []
  },
  {
   "cell_type": "code",
   "execution_count": null,
   "metadata": {},
   "outputs": [],
   "source": []
  },
  {
   "cell_type": "code",
   "execution_count": null,
   "metadata": {},
   "outputs": [],
   "source": []
  },
  {
   "cell_type": "code",
   "execution_count": null,
   "metadata": {},
   "outputs": [],
   "source": []
  },
  {
   "cell_type": "code",
   "execution_count": null,
   "metadata": {},
   "outputs": [],
   "source": []
  },
  {
   "cell_type": "code",
   "execution_count": null,
   "metadata": {},
   "outputs": [
    {
     "name": "stdout",
     "output_type": "stream",
     "text": [
      "Separated words:\n",
      "world\n",
      "Hello\n",
      "Haii\n"
     ]
    }
   ],
   "source": [
    "# Input CamelCase string\n",
    "st = \"worldHelloHaii\"\n",
    "\n",
    "# Initialize an empty list to store the separated words\n",
    "words = []\n",
    "\n",
    "# Initialize a variable to store the current word\n",
    "current_word = \"\"\n",
    "\n",
    "# Iterate through each character in the input string\n",
    "for i in st:\n",
    "    # Check if the character is uppercase\n",
    "    if i.isupper():\n",
    "        # If it's an uppercase letter, add the current word to the list of words\n",
    "        if current_word:\n",
    "            words.append(current_word)\n",
    "        # Start a new current word with the uppercase letter\n",
    "        current_word = i\n",
    "    else:\n",
    "        # If it's not an uppercase letter, add it to the current word\n",
    "        current_word += i\n",
    "\n",
    "# Add the last word to the list of words\n",
    "if current_word:\n",
    "    words.append(current_word)\n",
    "\n",
    "# Print the separated words\n",
    "print(\"Separated words:\")\n",
    "for word in words:\n",
    "    print(word)\n"
   ]
  },
  {
   "cell_type": "code",
   "execution_count": null,
   "metadata": {},
   "outputs": [
    {
     "name": "stdout",
     "output_type": "stream",
     "text": [
      "world\n",
      " Hello\n",
      " Haii\n"
     ]
    }
   ],
   "source": [
    "st=\"worldHelloHaii\"\n",
    "i=0\n",
    "res=\"\"\n",
    "while i<len(st):\n",
    "    if \"a\"<=st[i]<=\"z\":\n",
    "        res+=st[i]\n",
    "    else:\n",
    "        if len(res)!=0:\n",
    "            print(res)\n",
    "            res=\" \"\n",
    "            res+=st[i]\n",
    "    i+=1\n",
    "if len(res)!=0:\n",
    "    print(res)"
   ]
  },
  {
   "cell_type": "markdown",
   "metadata": {},
   "source": [
    "st=\"worldHelloHaii\"\n",
    "\n",
    "res=\"\"\n",
    "for i in range(0,len(st)):\n",
    "    if \"a\"<=st[i]<=\"z\":\n",
    "        res+=st[i]\n",
    "    else:\n",
    "        if len(res)!=0:\n",
    "            print(res)\n",
    "            res=\" \"\n",
    "            res+=st[i]\n",
    "    \n",
    "if len(res)!=0:\n",
    "    print(res)"
   ]
  },
  {
   "cell_type": "code",
   "execution_count": null,
   "metadata": {},
   "outputs": [],
   "source": []
  },
  {
   "cell_type": "code",
   "execution_count": null,
   "metadata": {},
   "outputs": [
    {
     "ename": "TypeError",
     "evalue": "fun() missing 2 required positional arguments: 'a' and 'b'",
     "output_type": "error",
     "traceback": [
      "\u001b[1;31m---------------------------------------------------------------------------\u001b[0m",
      "\u001b[1;31mTypeError\u001b[0m                                 Traceback (most recent call last)",
      "\u001b[1;32mc:\\Users\\Murali\\Desktop\\zindhagi.py\\programs.ipynb\\basic.ipynb\\functions.ipynb Cell 6\u001b[0m line \u001b[0;36m4\n\u001b[0;32m      <a href='vscode-notebook-cell:/c%3A/Users/Murali/Desktop/zindhagi.py/programs.ipynb/basic.ipynb/functions.ipynb#X10sZmlsZQ%3D%3D?line=1'>2</a>\u001b[0m     c\u001b[39m=\u001b[39ma\u001b[39m*\u001b[39mb\n\u001b[0;32m      <a href='vscode-notebook-cell:/c%3A/Users/Murali/Desktop/zindhagi.py/programs.ipynb/basic.ipynb/functions.ipynb#X10sZmlsZQ%3D%3D?line=2'>3</a>\u001b[0m     \u001b[39mprint\u001b[39m(c)\n\u001b[1;32m----> <a href='vscode-notebook-cell:/c%3A/Users/Murali/Desktop/zindhagi.py/programs.ipynb/basic.ipynb/functions.ipynb#X10sZmlsZQ%3D%3D?line=3'>4</a>\u001b[0m fun()\n",
      "\u001b[1;31mTypeError\u001b[0m: fun() missing 2 required positional arguments: 'a' and 'b'"
     ]
    }
   ],
   "source": [
    "def fun(a,b):\n",
    "    c=a*b\n",
    "    print(c)\n",
    "fun()"
   ]
  },
  {
   "cell_type": "markdown",
   "metadata": {},
   "source": []
  },
  {
   "cell_type": "code",
   "execution_count": null,
   "metadata": {},
   "outputs": [],
   "source": [
    "def check_prime(func):\n",
    "    def inner(*args,**kwargs):\n",
    "        d={2:True,3:True,11:True,17:True,90:False,88:False,64:False}\n",
    "        count=1\n",
    "        rating=0\n",
    "        for i in d:\n",
    "            if func(i)==d[i]:\n",
    "                res=f\"Testcase{count}==>input is {i} output is passed\"\n",
    "                print(res)\n",
    "                rating+=1\n",
    "            else:\n",
    "                res=f\"Testcase{count}==>input is {i} output is failed\"\n",
    "                print(res)\n",
    "            count+=1\n",
    "        return rating \n",
    "    return inner"
   ]
  },
  {
   "cell_type": "code",
   "execution_count": null,
   "metadata": {},
   "outputs": [
    {
     "name": "stdout",
     "output_type": "stream",
     "text": [
      "Testcase1=>input is 2 output is passed\n",
      "Testcase2=>input is 3 output is passed\n",
      "Testcase3=>input is 11 output is passed\n",
      "Testcase4=>input is 17 output is passed\n",
      "Testcase5=>input is 90 output is passed\n",
      "Testcase6=>input is 88 output is passed\n",
      "Testcase7=>input is 64 output is passed\n"
     ]
    },
    {
     "data": {
      "text/plain": [
       "7"
      ]
     },
     "execution_count": 52,
     "metadata": {},
     "output_type": "execute_result"
    }
   ],
   "source": [
    "@check_prime\n",
    "def prime(n):\n",
    "    for i in range(2,n):\n",
    "        if n%i==0:\n",
    "            return False\n",
    "    return True\n",
    "prime(2)"
   ]
  },
  {
   "cell_type": "code",
   "execution_count": null,
   "metadata": {},
   "outputs": [
    {
     "name": "stdout",
     "output_type": "stream",
     "text": [
      "Testcase1=>input is 2 output is passed\n",
      "Testcase2=>input is 3 output is passed\n",
      "Testcase3=>input is 11 output is passed\n",
      "Testcase4=>input is 17 output is passed\n",
      "Testcase5=>input is 90 output is passed\n",
      "Testcase6=>input is 88 output is passed\n",
      "Testcase7=>input is 64 output is passed\n"
     ]
    },
    {
     "data": {
      "text/plain": [
       "7"
      ]
     },
     "metadata": {},
     "output_type": "display_data"
    }
   ],
   "source": [
    "@check_prime\n",
    "def prime(n):\n",
    "    for i in range(2,n):\n",
    "        if n%i==0:\n",
    "            return False\n",
    "    return True\n",
    "prime(2)"
   ]
  },
  {
   "cell_type": "code",
   "execution_count": null,
   "metadata": {},
   "outputs": [
    {
     "name": "stdout",
     "output_type": "stream",
     "text": [
      "1 2 3\n"
     ]
    }
   ],
   "source": [
    "t=[1,2,3]\n",
    "def sam( a,b,c):\n",
    "    print(a,b,c)\n",
    "sam(*t)"
   ]
  },
  {
   "cell_type": "code",
   "execution_count": null,
   "metadata": {},
   "outputs": [
    {
     "name": "stdout",
     "output_type": "stream",
     "text": [
      "welcome to accenture\n"
     ]
    }
   ],
   "source": [
    "d={\"name\":\"manisha\",\"age\":22,\"phone\":824324224,\"email\":\"mannu@gmail.com\",\"password\":\"mannu@418\"}\n",
    "userid=\"mannu@gmail.com\"\n",
    "password=\"mannu@418\"\n",
    "if userid==d[\"email\"] and password==d[\"password\"]:\n",
    "    print(\"welcome to accenture\")\n",
    "else:\n",
    "    print(\"invalid user\")"
   ]
  },
  {
   "cell_type": "code",
   "execution_count": null,
   "metadata": {},
   "outputs": [
    {
     "name": "stdout",
     "output_type": "stream",
     "text": [
      "['@gmail.com', '@ymail.com', '@pmail.com', '@outlook.com']\n"
     ]
    }
   ],
   "source": [
    "st=\"qspider@gmail.com pysp@ymail.com spi@pmail.com mannu@outlook.com\"\n",
    "l=[]\n",
    "s=\"\"\n",
    "start=0\n",
    "while start<len(st):\n",
    "    if st[start]==\"@\":\n",
    "        s=\"\"\n",
    "        s+=st[start]\n",
    "    elif st[start]==\" \":\n",
    "        if len(s)!=0:\n",
    "            l+=[s]\n",
    "    else:\n",
    "        s+=st[start]\n",
    "   \n",
    "    start+=1\n",
    "if len(s)!=0:\n",
    "    l+=[s]\n",
    "print(l)"
   ]
  },
  {
   "cell_type": "code",
   "execution_count": null,
   "metadata": {},
   "outputs": [
    {
     "name": "stdout",
     "output_type": "stream",
     "text": [
      "{'h': 1, 'e': 1, 'l': 3, 'o': 2, 'w': 1, 'r': 1, 'd': 1}\n"
     ]
    }
   ],
   "source": [
    "st=\"helloworld\"\n",
    "d={}\n",
    "\n",
    "start=0\n",
    "while start<len(st):\n",
    "    if st[start] not in d:\n",
    "        d[st[start]]=1\n",
    "    else:\n",
    "        d[st[start]]+=1\n",
    "    start+=1\n",
    "print(d)"
   ]
  },
  {
   "cell_type": "code",
   "execution_count": null,
   "metadata": {},
   "outputs": [
    {
     "name": "stdout",
     "output_type": "stream",
     "text": [
      "((1, 10), (2, 20), (3, 30))\n"
     ]
    }
   ],
   "source": [
    "#t=(\"money\",\"hello\",\"dinga\")\n",
    "#d=(\"mannu\",\"honey\",\"donkey\")\n",
    "t=(1,2,3)\n",
    "d=(10,20,30)\n",
    "u=zip(t,d)\n",
    "print(tuple(u))"
   ]
  },
  {
   "cell_type": "code",
   "execution_count": null,
   "metadata": {},
   "outputs": [
    {
     "name": "stdout",
     "output_type": "stream",
     "text": [
      "haii_hello\n"
     ]
    }
   ],
   "source": [
    "n=\"haii\"\n",
    "l=\"hello\"\n",
    "k=(n,l)\n",
    "m=\"_\".join(k)\n",
    "print(m)"
   ]
  }
 ],
 "metadata": {
  "kernelspec": {
   "display_name": "Python 3",
   "language": "python",
   "name": "python3"
  },
  "language_info": {
   "codemirror_mode": {
    "name": "ipython",
    "version": 3
   },
   "file_extension": ".py",
   "mimetype": "text/x-python",
   "name": "python",
   "nbconvert_exporter": "python",
   "pygments_lexer": "ipython3",
   "version": "3.10.6"
  },
  "orig_nbformat": 4
 },
 "nbformat": 4,
 "nbformat_minor": 2
}
