{
 "cells": [
  {
   "cell_type": "code",
   "execution_count": 1,
   "metadata": {},
   "outputs": [
    {
     "ename": "TypeError",
     "evalue": "int() argument must be a string, a bytes-like object or a real number, not 'method'",
     "output_type": "error",
     "traceback": [
      "\u001b[1;31m---------------------------------------------------------------------------\u001b[0m",
      "\u001b[1;31mTypeError\u001b[0m                                 Traceback (most recent call last)",
      "\u001b[1;32mc:\\Users\\Murali\\Desktop\\zindhagi.py\\programs.ipynb\\matrix.ipynb Cell 1\u001b[0m line \u001b[0;36m7\n\u001b[0;32m      <a href='vscode-notebook-cell:/c%3A/Users/Murali/Desktop/zindhagi.py/programs.ipynb/matrix.ipynb#W0sZmlsZQ%3D%3D?line=4'>5</a>\u001b[0m a\u001b[39m=\u001b[39m[]\n\u001b[0;32m      <a href='vscode-notebook-cell:/c%3A/Users/Murali/Desktop/zindhagi.py/programs.ipynb/matrix.ipynb#W0sZmlsZQ%3D%3D?line=5'>6</a>\u001b[0m \u001b[39mfor\u001b[39;00m j \u001b[39min\u001b[39;00m \u001b[39mrange\u001b[39m(coloumn):\n\u001b[1;32m----> <a href='vscode-notebook-cell:/c%3A/Users/Murali/Desktop/zindhagi.py/programs.ipynb/matrix.ipynb#W0sZmlsZQ%3D%3D?line=6'>7</a>\u001b[0m     a\u001b[39m.\u001b[39mappend(\u001b[39mint\u001b[39m(\u001b[39mint\u001b[39;49m(\u001b[39minput\u001b[39;49m)))\n\u001b[0;32m      <a href='vscode-notebook-cell:/c%3A/Users/Murali/Desktop/zindhagi.py/programs.ipynb/matrix.ipynb#W0sZmlsZQ%3D%3D?line=7'>8</a>\u001b[0m matrix\u001b[39m.\u001b[39mappend(a)\n\u001b[0;32m      <a href='vscode-notebook-cell:/c%3A/Users/Murali/Desktop/zindhagi.py/programs.ipynb/matrix.ipynb#W0sZmlsZQ%3D%3D?line=8'>9</a>\u001b[0m \u001b[39mprint\u001b[39m()\n",
      "\u001b[1;31mTypeError\u001b[0m: int() argument must be a string, a bytes-like object or a real number, not 'method'"
     ]
    }
   ],
   "source": [
    "row=int(input(\"enter the row values \"))\n",
    "coloumn= int(input())\n",
    "matrix=[]\n",
    "for i in range(row):\n",
    "    a=[]\n",
    "    for j in range(coloumn):\n",
    "        a.append(int(int(input)))\n",
    "    matrix.append(a)\n",
    "    print()\n",
    "print(matrix)\n"
   ]
  },
  {
   "cell_type": "code",
   "execution_count": 21,
   "metadata": {},
   "outputs": [
    {
     "ename": "TypeError",
     "evalue": "'int' object is not iterable",
     "output_type": "error",
     "traceback": [
      "\u001b[1;31m---------------------------------------------------------------------------\u001b[0m",
      "\u001b[1;31mTypeError\u001b[0m                                 Traceback (most recent call last)",
      "\u001b[1;32mc:\\Users\\Murali\\Desktop\\zindhagi.py\\programs.ipynb\\matrix.ipynb Cell 2\u001b[0m line \u001b[0;36m3\n\u001b[0;32m      <a href='vscode-notebook-cell:/c%3A/Users/Murali/Desktop/zindhagi.py/programs.ipynb/matrix.ipynb#W1sZmlsZQ%3D%3D?line=0'>1</a>\u001b[0m l\u001b[39m=\u001b[39m [\u001b[39m1\u001b[39m,\u001b[39m2\u001b[39m,\u001b[39m3\u001b[39m]\n\u001b[0;32m      <a href='vscode-notebook-cell:/c%3A/Users/Murali/Desktop/zindhagi.py/programs.ipynb/matrix.ipynb#W1sZmlsZQ%3D%3D?line=1'>2</a>\u001b[0m \u001b[39m#l.append(4)\u001b[39;00m\n\u001b[1;32m----> <a href='vscode-notebook-cell:/c%3A/Users/Murali/Desktop/zindhagi.py/programs.ipynb/matrix.ipynb#W1sZmlsZQ%3D%3D?line=2'>3</a>\u001b[0m l\u001b[39m+\u001b[39m\u001b[39m=\u001b[39m\u001b[39m5\u001b[39m\n\u001b[0;32m      <a href='vscode-notebook-cell:/c%3A/Users/Murali/Desktop/zindhagi.py/programs.ipynb/matrix.ipynb#W1sZmlsZQ%3D%3D?line=4'>5</a>\u001b[0m \u001b[39mprint\u001b[39m(l)\n",
      "\u001b[1;31mTypeError\u001b[0m: 'int' object is not iterable"
     ]
    }
   ],
   "source": [
    "l= [1,2,3]\n",
    "#l.append(4)\n",
    "l=5\n",
    "\n",
    "print(l)"
   ]
  },
  {
   "cell_type": "code",
   "execution_count": 10,
   "metadata": {},
   "outputs": [
    {
     "name": "stdout",
     "output_type": "stream",
     "text": [
      "{1, 2, 3, 4, 5, 6, 7}\n"
     ]
    }
   ],
   "source": [
    "l= {1,2,3,4,5,6,7}\n",
    "print(l)"
   ]
  },
  {
   "cell_type": "code",
   "execution_count": 8,
   "metadata": {},
   "outputs": [
    {
     "name": "stdout",
     "output_type": "stream",
     "text": [
      "{'a': 12, 'c': 44}\n"
     ]
    }
   ],
   "source": [
    "d={\"a\":12,\"c\":34,\"c\":44}\n",
    "print(d)"
   ]
  },
  {
   "cell_type": "code",
   "execution_count": null,
   "metadata": {},
   "outputs": [],
   "source": []
  }
 ],
 "metadata": {
  "kernelspec": {
   "display_name": "Python 3",
   "language": "python",
   "name": "python3"
  },
  "language_info": {
   "codemirror_mode": {
    "name": "ipython",
    "version": 3
   },
   "file_extension": ".py",
   "mimetype": "text/x-python",
   "name": "python",
   "nbconvert_exporter": "python",
   "pygments_lexer": "ipython3",
   "version": "3.10.6"
  }
 },
 "nbformat": 4,
 "nbformat_minor": 2
}
