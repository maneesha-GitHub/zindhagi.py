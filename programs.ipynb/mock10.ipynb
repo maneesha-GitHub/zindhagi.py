{
 "cells": [
  {
   "cell_type": "code",
   "execution_count": 6,
   "metadata": {},
   "outputs": [
    {
     "name": "stdout",
     "output_type": "stream",
     "text": [
      "Roll No: 1, Name: bhagya, Total Marks: 253, Percentage: 84.33333333333333%\n",
      "Roll No: 2, Name: sasi, Total Marks: 259, Percentage: 86.33333333333333%\n"
     ]
    },
    {
     "name": "stdout",
     "output_type": "stream",
     "text": [
      "Marks modified successfully.\n"
     ]
    }
   ],
   "source": [
    "class Student:\n",
    "    school_phone = \"1234567890\" # Static state\n",
    "    school_name='PYS'\n",
    "    school_addres='Dilsukhnagar'\n",
    "    school_pincode='12345'\n",
    "\n",
    "    def __init__(self, roll_no, stud_name, phone, email, address, mark1, mark2, mark3):\n",
    "        self.roll_no = roll_no\n",
    "        self.stud_name = stud_name\n",
    "        self.phone = phone\n",
    "        self.email = email\n",
    "        self.address = address\n",
    "        self.mark1 = mark1\n",
    "        self.mark2 = mark2\n",
    "        self.mark3 = mark3\n",
    "\n",
    "    @classmethod\n",
    "    def set_stud_details(cls, roll_no, stud_name, phone, email, address, mark1, mark2, mark3):\n",
    "        return cls(roll_no, stud_name, phone, email, address, mark1, mark2, mark3)\n",
    "\n",
    "    def calculate_total(self):\n",
    "        return self.mark1 + self.mark2 + self.mark3\n",
    "\n",
    "    def display_stud_details(self):\n",
    "        total_marks = self.calculate_total()\n",
    "        percentage = total_marks / 3\n",
    "        print(f\"Roll No: {self.roll_no}, Name: {self.stud_name}, Total Marks: {total_marks}, Percentage: {percentage}%\")\n",
    "\n",
    "    @staticmethod\n",
    "    def display_specific_student(student):\n",
    "        print(f\"Details for {student.stud_name}:\")\n",
    "        print(f\"Roll No: {student.roll_no}, Name: {student.stud_name}, Phone: {student.phone}, Email: {student.email}, Address: {student.address}, Mark1: {student.mark1}, Mark2: {student.mark2}, Mark3: {student.mark3}\")\n",
    "\n",
    "    def modify_marks(self):\n",
    "       \n",
    "        self.mark1 = int(input(\"Enter new mark1: \"))\n",
    "        self.mark2 = int(input(\"Enter new mark2: \"))\n",
    "        self.mark3 = int(input(\"Enter new mark3: \"))\n",
    "        print(\"Marks modified successfully.\")\n",
    "\n",
    "    @classmethod\n",
    "    def change_school_phone(cls, new_phone):\n",
    "        cls.school_phone = new_phone\n",
    "        print(f\"School phone number changed to {new_phone}\")\n",
    "\n",
    "student1 = Student.set_stud_details(1, \"bhagya\", \"9390899287\", \"bhagya@gmail.com\", \"viziangaram\", 90, 85, 78)\n",
    "student2 = Student.set_stud_details(2, \"sasi\", \"7989463294\", \"sasi@gmail.com\", \"hyderabad\", 88, 92, 79)\n",
    "\n",
    "student1.display_stud_details()\n",
    "student2.display_stud_details()\n",
    "student1.modify_marks()"
   ]
  }
 ],
 "metadata": {
  "kernelspec": {
   "display_name": "Python 3",
   "language": "python",
   "name": "python3"
  },
  "language_info": {
   "codemirror_mode": {
    "name": "ipython",
    "version": 3
   },
   "file_extension": ".py",
   "mimetype": "text/x-python",
   "name": "python",
   "nbconvert_exporter": "python",
   "pygments_lexer": "ipython3",
   "version": "3.10.6"
  }
 },
 "nbformat": 4,
 "nbformat_minor": 2
}
